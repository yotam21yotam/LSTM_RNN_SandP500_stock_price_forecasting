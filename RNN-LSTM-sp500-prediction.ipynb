{
 "cells": [
  {
   "cell_type": "code",
   "execution_count": 1,
   "metadata": {
    "colab": {},
    "colab_type": "code",
    "id": "ZT1f24vHffuf"
   },
   "outputs": [],
   "source": [
    "import numpy as np\n",
    "import matplotlib.pyplot as plt\n",
    "import pandas as pd"
   ]
  },
  {
   "cell_type": "code",
   "execution_count": 19,
   "metadata": {
    "colab": {},
    "colab_type": "code",
    "id": "1xiv3pJOgqY3"
   },
   "outputs": [],
   "source": [
    "dataset_train = pd.read_csv('^spx_d.csv')\n",
    "training_set = dataset_train.iloc[:, 1:2].values # .values maxe it DataFrame"
   ]
  },
  {
   "cell_type": "code",
   "execution_count": 20,
   "metadata": {
    "colab": {},
    "colab_type": "code",
    "id": "OTrF2kR7gx9x"
   },
   "outputs": [],
   "source": [
    "from sklearn.preprocessing import MinMaxScaler\n",
    "sc = MinMaxScaler(feature_range = (0, 1))\n",
    "training_set_scaled = sc.fit_transform(training_set)"
   ]
  },
  {
   "cell_type": "code",
   "execution_count": 21,
   "metadata": {
    "colab": {},
    "colab_type": "code",
    "id": "iofU21B0i6ST"
   },
   "outputs": [],
   "source": [
    "# 60 time stamp past values to predict\n",
    "# choose 60 by experiment 1-time stamp will lead to overfit\n",
    "X_train = []\n",
    "y_train = []\n",
    "for i in range(60, 1258): # first value is only after 60 timestamp \n",
    "    X_train.append(training_set_scaled[i-60:i, 0]) # index starts at 0 so 0-59 Time Stamp is the input\n",
    "    y_train.append(training_set_scaled[i, 0]) # index 60 is the label \n",
    "X_train, y_train = np.array(X_train), np.array(y_train)"
   ]
  },
  {
   "cell_type": "code",
   "execution_count": 22,
   "metadata": {
    "colab": {},
    "colab_type": "code",
    "id": "FOXqJHmNjBkz"
   },
   "outputs": [],
   "source": [
    "# add dimension to numpy list, X_train need to be reshaped\n",
    "# every ANN cna get a fixed size or input\n",
    "X_train = np.reshape(X_train, (X_train.shape[0], X_train.shape[1], 1)) \n",
    "# X_train.shape[0] exactly the number of lines in X_train\n",
    "# Time Stamp is the second dim in reshape: X_train.shape[1] is the number of cplumn: 60 columns - 60 TS\n",
    "# the last value is the number of indicators - for instance: another highly correlated stock. in our case - 1 google stock price\n",
    "# the reshape is need to be done before the data enter the RNN"
   ]
  },
  {
   "cell_type": "code",
   "execution_count": 23,
   "metadata": {
    "colab": {
     "base_uri": "https://localhost:8080/",
     "height": 34
    },
    "colab_type": "code",
    "id": "9JRnqsxEjKsD",
    "outputId": "b3e23e78-18aa-4396-c923-c877b8de60e4"
   },
   "outputs": [],
   "source": [
    "# importing classes\n",
    "from keras.models import Sequential # to create neural network\n",
    "from keras.layers import Dense # to add the output layer\n",
    "from keras.layers import LSTM # to add the LSTM layers \n",
    "from keras.layers import Dropout # dropout layer to prevent overfit"
   ]
  },
  {
   "cell_type": "code",
   "execution_count": 24,
   "metadata": {
    "colab": {},
    "colab_type": "code",
    "id": "1338dJ0UjRKH"
   },
   "outputs": [],
   "source": [
    "# initialize our RNN as sequence of layers as oppose to computational graph בשונה מגרף חישוב\n",
    "regressor = Sequential() # an object of the sequential graph which represent a sequence of layers\n",
    "# we"
   ]
  },
  {
   "cell_type": "code",
   "execution_count": 25,
   "metadata": {},
   "outputs": [
    {
     "data": {
      "text/plain": [
       "'1.18.5'"
      ]
     },
     "execution_count": 25,
     "metadata": {},
     "output_type": "execute_result"
    }
   ],
   "source": [
    "np.version.version"
   ]
  },
  {
   "cell_type": "code",
   "execution_count": 26,
   "metadata": {
    "colab": {},
    "colab_type": "code",
    "id": "2hIinyXUjbVU"
   },
   "outputs": [],
   "source": [
    "regressor.add(LSTM(units = 50, return_sequences = True, input_shape = (X_train.shape[1], 1)))\n",
    "regressor.add(Dropout(0.2))\n",
    "\n",
    "# return_sequences - true for stack LSTM layers (will add more layers)\n",
    "# input_shape - input is 3D, 1 corrisponding to time stamp and 1 for predictors - indicators\n",
    "# units - number of LSTM units / neurons\n",
    "# many units increase dimensionality, stock's are complicated - need high dimensunality\n",
    "# Dropout rate - percentage of neurons to drop - avoid overfit - normaly 20% - 10 neurons will dropoup each irreation \n",
    "# need Numpy version: 1.18.5\n",
    "\n",
    "\n",
    "\n",
    "\n",
    "\n",
    "\n",
    "\n",
    "\n",
    "\n",
    "\n",
    "\n",
    "\n",
    "\n"
   ]
  },
  {
   "cell_type": "code",
   "execution_count": 27,
   "metadata": {
    "colab": {},
    "colab_type": "code",
    "id": "UG7nrVaSjuZ2"
   },
   "outputs": [],
   "source": [
    "regressor.add(LSTM(units = 50, return_sequences = True))\n",
    "regressor.add(Dropout(0.2))"
   ]
  },
  {
   "cell_type": "code",
   "execution_count": 28,
   "metadata": {
    "colab": {},
    "colab_type": "code",
    "id": "PuNi6PgFj7jO"
   },
   "outputs": [],
   "source": [
    "regressor.add(LSTM(units = 50, return_sequences = True))\n",
    "regressor.add(Dropout(0.2))"
   ]
  },
  {
   "cell_type": "code",
   "execution_count": 29,
   "metadata": {
    "colab": {},
    "colab_type": "code",
    "id": "Jp4Ty8fRkBYV"
   },
   "outputs": [],
   "source": [
    "regressor.add(LSTM(units = 50))\n",
    "regressor.add(Dropout(0.2))"
   ]
  },
  {
   "cell_type": "code",
   "execution_count": 30,
   "metadata": {
    "colab": {},
    "colab_type": "code",
    "id": "aM6R1z4WkME8"
   },
   "outputs": [],
   "source": [
    "regressor.add(Dense(units = 1))"
   ]
  },
  {
   "cell_type": "code",
   "execution_count": 31,
   "metadata": {
    "colab": {},
    "colab_type": "code",
    "id": "XTrhVN-tkbko"
   },
   "outputs": [],
   "source": [
    "regressor.compile(optimizer = 'adam', loss = 'mean_squared_error')"
   ]
  },
  {
   "cell_type": "code",
   "execution_count": 32,
   "metadata": {
    "colab": {
     "base_uri": "https://localhost:8080/",
     "height": 1000
    },
    "colab_type": "code",
    "id": "I06Nkrz5kkb-",
    "outputId": "dc9d947a-4d5c-4dbc-ed45-31bf44b98dfb"
   },
   "outputs": [
    {
     "name": "stdout",
     "output_type": "stream",
     "text": [
      "Epoch 1/50\n",
      "38/38 [==============================] - 8s 215ms/step - loss: 1.6145e-04\n",
      "Epoch 2/50\n",
      "38/38 [==============================] - 8s 218ms/step - loss: 1.8824e-05\n",
      "Epoch 3/50\n",
      "38/38 [==============================] - 8s 204ms/step - loss: 1.3677e-05\n",
      "Epoch 4/50\n",
      "38/38 [==============================] - 8s 215ms/step - loss: 1.3889e-05\n",
      "Epoch 5/50\n",
      "38/38 [==============================] - 7s 195ms/step - loss: 1.4821e-05\n",
      "Epoch 6/50\n",
      "38/38 [==============================] - 8s 205ms/step - loss: 1.1311e-05\n",
      "Epoch 7/50\n",
      "38/38 [==============================] - 7s 196ms/step - loss: 1.1262e-05\n",
      "Epoch 8/50\n",
      "38/38 [==============================] - 8s 206ms/step - loss: 1.1714e-05\n",
      "Epoch 9/50\n",
      "38/38 [==============================] - 7s 194ms/step - loss: 9.1120e-06 2s - lo\n",
      "Epoch 10/50\n",
      "38/38 [==============================] - 8s 202ms/step - loss: 9.0791e-06\n",
      "Epoch 11/50\n",
      "38/38 [==============================] - 7s 193ms/step - loss: 8.6834e-06\n",
      "Epoch 12/50\n",
      "38/38 [==============================] - 8s 204ms/step - loss: 9.2321e-06\n",
      "Epoch 13/50\n",
      "38/38 [==============================] - 7s 192ms/step - loss: 8.0039e-06\n",
      "Epoch 14/50\n",
      "38/38 [==============================] - 8s 204ms/step - loss: 7.8047e-06\n",
      "Epoch 15/50\n",
      "38/38 [==============================] - 7s 194ms/step - loss: 8.2282e-06\n",
      "Epoch 16/50\n",
      "38/38 [==============================] - 8s 203ms/step - loss: 9.0053e-06\n",
      "Epoch 17/50\n",
      "38/38 [==============================] - 7s 192ms/step - loss: 7.6945e-06 3s \n",
      "Epoch 18/50\n",
      "38/38 [==============================] - 8s 203ms/step - loss: 6.4849e-06\n",
      "Epoch 19/50\n",
      "38/38 [==============================] - 7s 193ms/step - loss: 7.5266e-06\n",
      "Epoch 20/50\n",
      "38/38 [==============================] - 8s 204ms/step - loss: 9.5433e-06 4s -  - ETA: 1s - loss: 1.0\n",
      "Epoch 21/50\n",
      "38/38 [==============================] - 7s 194ms/step - loss: 6.2550e-06\n",
      "Epoch 22/50\n",
      "38/38 [==============================] - 8s 201ms/step - loss: 7.2635e-06\n",
      "Epoch 23/50\n",
      "38/38 [==============================] - 7s 194ms/step - loss: 1.0096e-05\n",
      "Epoch 24/50\n",
      "38/38 [==============================] - 8s 200ms/step - loss: 6.2881e-06\n",
      "Epoch 25/50\n",
      "38/38 [==============================] - 7s 194ms/step - loss: 5.8503e-06\n",
      "Epoch 26/50\n",
      "38/38 [==============================] - 8s 200ms/step - loss: 7.7968e-06\n",
      "Epoch 27/50\n",
      "38/38 [==============================] - 7s 191ms/step - loss: 1.0652e-05\n",
      "Epoch 28/50\n",
      "38/38 [==============================] - 8s 199ms/step - loss: 5.8612e-06\n",
      "Epoch 29/50\n",
      "38/38 [==============================] - 7s 194ms/step - loss: 5.5814e-06\n",
      "Epoch 30/50\n",
      "38/38 [==============================] - 8s 200ms/step - loss: 4.6827e-06\n",
      "Epoch 31/50\n",
      "38/38 [==============================] - 8s 197ms/step - loss: 4.8501e-06\n",
      "Epoch 32/50\n",
      "38/38 [==============================] - 7s 196ms/step - loss: 5.9012e-06\n",
      "Epoch 33/50\n",
      "38/38 [==============================] - 8s 201ms/step - loss: 5.3584e-06\n",
      "Epoch 34/50\n",
      "38/38 [==============================] - 7s 194ms/step - loss: 5.2161e-06\n",
      "Epoch 35/50\n",
      "38/38 [==============================] - 8s 201ms/step - loss: 5.1902e-06\n",
      "Epoch 36/50\n",
      "38/38 [==============================] - 7s 191ms/step - loss: 5.0460e-06\n",
      "Epoch 37/50\n",
      "38/38 [==============================] - 8s 202ms/step - loss: 5.5398e-06\n",
      "Epoch 38/50\n",
      "38/38 [==============================] - 7s 192ms/step - loss: 5.2396e-06\n",
      "Epoch 39/50\n",
      "38/38 [==============================] - 8s 201ms/step - loss: 6.1514e-06\n",
      "Epoch 40/50\n",
      "38/38 [==============================] - 7s 191ms/step - loss: 6.0797e-06\n",
      "Epoch 41/50\n",
      "38/38 [==============================] - 8s 200ms/step - loss: 4.4160e-06\n",
      "Epoch 42/50\n",
      "38/38 [==============================] - 7s 191ms/step - loss: 4.3804e-06\n",
      "Epoch 43/50\n",
      "38/38 [==============================] - 8s 202ms/step - loss: 4.6666e-06\n",
      "Epoch 44/50\n",
      "38/38 [==============================] - 7s 188ms/step - loss: 5.1528e-06\n",
      "Epoch 45/50\n",
      "38/38 [==============================] - 8s 200ms/step - loss: 5.9991e-06\n",
      "Epoch 46/50\n",
      "38/38 [==============================] - 7s 189ms/step - loss: 4.6202e-06 1s - loss: \n",
      "Epoch 47/50\n",
      "38/38 [==============================] - 8s 200ms/step - loss: 5.5117e-06\n",
      "Epoch 48/50\n",
      "38/38 [==============================] - 7s 192ms/step - loss: 6.8003e-06\n",
      "Epoch 49/50\n",
      "38/38 [==============================] - 8s 199ms/step - loss: 6.2707e-06\n",
      "Epoch 50/50\n",
      "38/38 [==============================] - 7s 194ms/step - loss: 4.8420e-06\n"
     ]
    },
    {
     "data": {
      "text/plain": [
       "<tensorflow.python.keras.callbacks.History at 0x1884e5dc8e0>"
      ]
     },
     "execution_count": 32,
     "metadata": {},
     "output_type": "execute_result"
    }
   ],
   "source": [
    "regressor.fit(X_train, y_train, epochs = 50, batch_size = 32)"
   ]
  },
  {
   "cell_type": "code",
   "execution_count": 43,
   "metadata": {
    "colab": {},
    "colab_type": "code",
    "id": "FmBT2zqukxTz"
   },
   "outputs": [],
   "source": [
    "dataset_test = pd.read_csv('sandp500_test_d.csv')\n",
    "real_stock_price = dataset_test.iloc[:, 1:2].values"
   ]
  },
  {
   "cell_type": "code",
   "execution_count": 44,
   "metadata": {
    "colab": {},
    "colab_type": "code",
    "id": "emikTvUpk3Ck"
   },
   "outputs": [],
   "source": [
    "dataset_total = pd.concat((dataset_train['Open'], dataset_test['Open']), axis = 0)\n",
    "inputs = dataset_total[len(dataset_total) - len(dataset_test) - 60:].values\n",
    "inputs = inputs.reshape(-1,1)\n",
    "inputs = sc.transform(inputs)\n",
    "X_test = []\n",
    "for i in range(60, 80):\n",
    "    X_test.append(inputs[i-60:i, 0])\n",
    "X_test = np.array(X_test)\n",
    "X_test = np.reshape(X_test, (X_test.shape[0], X_test.shape[1], 1))\n",
    "predicted_stock_price = regressor.predict(X_test)\n",
    "predicted_stock_price = sc.inverse_transform(predicted_stock_price)"
   ]
  },
  {
   "cell_type": "code",
   "execution_count": 45,
   "metadata": {
    "colab": {
     "base_uri": "https://localhost:8080/",
     "height": 295
    },
    "colab_type": "code",
    "id": "8OUI8U49k9tH",
    "outputId": "db0ed15e-071b-4bae-955e-0eda3df95238"
   },
   "outputs": [
    {
     "data": {
      "image/png": "[encoded data removed]",
      "text/plain": [
       "<Figure size 432x288 with 1 Axes>"
      ]
     },
     "metadata": {
      "needs_background": "light"
     },
     "output_type": "display_data"
    }
   ],
   "source": [
    "plt.plot(real_stock_price, color = 'red', label = 'True S&P500 Stock Price')\n",
    "plt.plot(predicted_stock_price, color = 'blue', label = 'Predicted S&P500 Stock Price')\n",
    "plt.title('S&P500 Stock Price Prediction')\n",
    "plt.xlabel('Time')\n",
    "plt.ylabel('S&P500 Stock Price')\n",
    "plt.legend()\n",
    "plt.show()"
   ]
  },
  {
   "cell_type": "code",
   "execution_count": null,
   "metadata": {},
   "outputs": [],
   "source": []
  },
  {
   "cell_type": "code",
   "execution_count": null,
   "metadata": {},
   "outputs": [],
   "source": []
  }
 ],
 "metadata": {
  "colab": {
   "collapsed_sections": [],
   "name": "recurrent_neural_network.ipynb",
   "provenance": []
  },
  "kernelspec": {
   "display_name": "Python 3",
   "language": "python",
   "name": "python3"
  },
  "language_info": {
   "codemirror_mode": {
    "name": "ipython",
    "version": 3
   },
   "file_extension": ".py",
   "mimetype": "text/x-python",
   "name": "python",
   "nbconvert_exporter": "python",
   "pygments_lexer": "ipython3",
   "version": "3.8.8"
  }
 },
 "nbformat": 4,
 "nbformat_minor": 1
}
